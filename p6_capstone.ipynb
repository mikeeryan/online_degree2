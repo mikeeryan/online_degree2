{
 "cells": [
  {
   "cell_type": "markdown",
   "metadata": {},
   "source": [
    "### Capstone Project\n",
    "#### Machine Learning Nanodegree \n",
    "#### Topic: Generative Deep Learning\n",
    "#### By Michael Eryan"
   ]
  },
  {
   "cell_type": "code",
   "execution_count": 1,
   "metadata": {},
   "outputs": [
    {
     "name": "stdout",
     "output_type": "stream",
     "text": [
      "\n",
      " Python version is: sys.version_info(major=3, minor=6, micro=2, releaselevel='final', serial=0)\n"
     ]
    },
    {
     "name": "stderr",
     "output_type": "stream",
     "text": [
      "Using TensorFlow backend.\n"
     ]
    },
    {
     "name": "stdout",
     "output_type": "stream",
     "text": [
      "\n",
      " Keras version: 2.1.3\n",
      "\n",
      " Keras backend: tensorflow\n",
      "\n",
      " Local GPU/CPU devices: \n",
      "\n",
      "[name: \"/device:CPU:0\"\n",
      "device_type: \"CPU\"\n",
      "memory_limit: 268435456\n",
      "locality {\n",
      "}\n",
      "incarnation: 16560697206155264718\n",
      ", name: \"/device:GPU:0\"\n",
      "device_type: \"GPU\"\n",
      "memory_limit: 1469952819\n",
      "locality {\n",
      "  bus_id: 1\n",
      "}\n",
      "incarnation: 16482412889948346998\n",
      "physical_device_desc: \"device: 0, name: GeForce GTX 960, pci bus id: 0000:01:00.0, compute capability: 5.2\"\n",
      "]\n"
     ]
    }
   ],
   "source": [
    "# In[]: Import all the libraries on top\n",
    "import os\n",
    "os.chdir(r\"C:\\Users\\rf\\Google Drive\\Education\\Python\\Codes\\ML_nano\\p6_rnn\\capstone\") # no last slash\n",
    "\n",
    "import sys\n",
    "print (\"\\n Python version is:\", sys.version_info)\n",
    "\n",
    "#my custom word map\n",
    "from auxiliary_script import auxiliary \n",
    "\n",
    "#for web scraping\n",
    "from bs4 import BeautifulSoup\n",
    "import urllib3 \n",
    "    #need to install first  https://urllib3.readthedocs.io/en/1.3/index.html#installing\n",
    "\n",
    "import numpy as np\n",
    "import pandas as pd\n",
    "from copy import copy\n",
    "import time \n",
    "import pickle\n",
    "import random\n",
    "from collections import Counter,OrderedDict\n",
    "\n",
    "import matplotlib.pyplot as plt\n",
    "import matplotlib.image as mpimg\n",
    "\n",
    "#for this project need to use the standalone Keras pkg, not the one embedded in TF\n",
    "import keras \n",
    "print(\"\\n Keras version:\", keras.__version__) #2.1.2-tf vs keras own is 2.1.3\n",
    "print(\"\\n Keras backend:\", keras.backend.backend()) #tensorflow\n",
    "\n",
    "from tensorflow.python.client import device_lib\n",
    "print (\"\\n Local GPU/CPU devices: \\n\")\n",
    "print (device_lib.list_local_devices() )\n",
    "        \n",
    "from keras.models import Sequential, load_model\n",
    "from keras.layers.core import Dense, Activation, Dropout\n",
    "from keras.layers import Embedding, Flatten\n",
    "from keras.layers.recurrent import SimpleRNN, LSTM, GRU\n",
    "from keras import optimizers, regularizers, layers, metrics\n",
    "from keras.utils.data_utils import get_file\n",
    "from keras.utils import to_categorical,plot_model\n",
    "from keras.preprocessing.text import Tokenizer\n",
    "from keras.preprocessing.sequence import pad_sequences\n"
   ]
  },
  {
   "cell_type": "code",
   "execution_count": 2,
   "metadata": {},
   "outputs": [],
   "source": [
    "# Beginning of Proj_prog1\n",
    "# In[]: Part 1: Data acquisition\n",
    "# soup fn - to establish a connection to each page\n",
    "def soupify(url):\n",
    "    # Open the request and create the soup\n",
    "    http = urllib3.PoolManager()\n",
    "    req = http.request('GET',url)\n",
    "    soup = BeautifulSoup(req.data, \"lxml\")\n",
    "    return soup"
   ]
  },
  {
   "cell_type": "code",
   "execution_count": 3,
   "metadata": {},
   "outputs": [
    {
     "data": {
      "text/plain": [
       "'\\nprint (\"List of all the used pages: \\n\")\\nfor url in url_list:\\n    print (url)\\n'"
      ]
     },
     "execution_count": 3,
     "metadata": {},
     "output_type": "execute_result"
    }
   ],
   "source": [
    "# In[]: Get the futurama season 1 episodes\n",
    "#cannot scrape only the episode links from the page - no class tag\n",
    "#scraping all links needs too much manual clean up\n",
    "#just manually add all the links into a list - 20 episodes should be enough data\n",
    "url_list =[\n",
    "\"https://www.imsdb.com/transcripts/Futurama-Space-Pilot-3000.html\"\n",
    ",\"https://www.imsdb.com/transcripts/Futurama-The-Series-Has-Landed.html\"\n",
    ",\"https://www.imsdb.com/transcripts/Futurama-I,-Roommate.html\"\n",
    ",\"https://www.imsdb.com/transcripts/Futurama-Love's-Labours-Lost-In-Space.html\"\n",
    ",\"https://www.imsdb.com/transcripts/Futurama-Fear-Of-A-Bot-Planet.html\"\n",
    ",\"https://www.imsdb.com/transcripts/Futurama-A-Fishful-Of-Dollars.html\"\n",
    ",\"https://www.imsdb.com/transcripts/Futurama-My-Three-Suns.html\"\n",
    ",\"https://www.imsdb.com/transcripts/Futurama-A-Big-Piece-Of-Garbage.html\"\n",
    ",\"https://www.imsdb.com/transcripts/Futurama-Hell-Is-Other-Robots.html\"\n",
    ",\"https://www.imsdb.com/transcripts/Futurama-A-Flight-To-Remember.html\"\n",
    ",\"https://www.imsdb.com/transcripts/Futurama-Mars-University.html\"\n",
    ",\"https://www.imsdb.com/transcripts/Futurama-When-Aliens-Attack.html\"\n",
    ",\"https://www.imsdb.com/transcripts/Futurama-Fry-And-The-Slurm-Factory.html\"\n",
    ",\"https://www.imsdb.com/transcripts/Futurama-I-Second-That-Emotion.html\"\n",
    ",\"https://www.imsdb.com/transcripts/Futurama-Brannigan,-Begin-Again.html\"\n",
    ",\"https://www.imsdb.com/transcripts/Futurama-A-Head-In-The-Polls.html\"\n",
    ",\"https://www.imsdb.com/transcripts/Futurama-Xmas-Story.html\"\n",
    ",\"https://www.imsdb.com/transcripts/Futurama-Why-Must-I-Be-A-Crustacean-In-Love.html\"\n",
    ",\"https://www.imsdb.com/transcripts/Futurama-Put-Your-Head-On-My-Shoulder.html\"\n",
    ",\"https://www.imsdb.com/transcripts/Futurama-The-Lesser-Of-Two-Evils.html\"\n",
    "        ]    \n",
    "'''\n",
    "print (\"List of all the used pages: \\n\")\n",
    "for url in url_list:\n",
    "    print (url)\n",
    "'''"
   ]
  },
  {
   "cell_type": "code",
   "execution_count": 4,
   "metadata": {},
   "outputs": [],
   "source": [
    "# In[]: Part 1: data cleaning\n",
    "# remove all contents in brackets/parenthesis - to use only actual monologues/dialogues\n",
    "# Source: https://stackoverflow.com/questions/14596884/remove-text-between-and-in-python\n",
    "def bracket_remover(test_str):\n",
    "    ret = ''\n",
    "    skip1c = 0\n",
    "    skip2c = 0\n",
    "    for i in test_str:\n",
    "        if i == '[':\n",
    "            skip1c += 1\n",
    "        elif i == '(':\n",
    "            skip2c += 1\n",
    "        elif i == ']' and skip1c > 0:\n",
    "            skip1c -= 1\n",
    "        elif i == ')'and skip2c > 0:\n",
    "            skip2c -= 1\n",
    "        elif skip1c == 0 and skip2c == 0:\n",
    "            ret += i\n",
    "    return ret"
   ]
  },
  {
   "cell_type": "code",
   "execution_count": 5,
   "metadata": {},
   "outputs": [
    {
     "name": "stderr",
     "output_type": "stream",
     "text": [
      "C:\\ProgramData\\Anaconda3\\lib\\site-packages\\urllib3\\connectionpool.py:857: InsecureRequestWarning: Unverified HTTPS request is being made. Adding certificate verification is strongly advised. See: https://urllib3.readthedocs.io/en/latest/advanced-usage.html#ssl-warnings\n",
      "  InsecureRequestWarning)\n",
      "C:\\ProgramData\\Anaconda3\\lib\\site-packages\\urllib3\\connectionpool.py:857: InsecureRequestWarning: Unverified HTTPS request is being made. Adding certificate verification is strongly advised. See: https://urllib3.readthedocs.io/en/latest/advanced-usage.html#ssl-warnings\n",
      "  InsecureRequestWarning)\n",
      "C:\\ProgramData\\Anaconda3\\lib\\site-packages\\urllib3\\connectionpool.py:857: InsecureRequestWarning: Unverified HTTPS request is being made. Adding certificate verification is strongly advised. See: https://urllib3.readthedocs.io/en/latest/advanced-usage.html#ssl-warnings\n",
      "  InsecureRequestWarning)\n",
      "C:\\ProgramData\\Anaconda3\\lib\\site-packages\\urllib3\\connectionpool.py:857: InsecureRequestWarning: Unverified HTTPS request is being made. Adding certificate verification is strongly advised. See: https://urllib3.readthedocs.io/en/latest/advanced-usage.html#ssl-warnings\n",
      "  InsecureRequestWarning)\n",
      "C:\\ProgramData\\Anaconda3\\lib\\site-packages\\urllib3\\connectionpool.py:857: InsecureRequestWarning: Unverified HTTPS request is being made. Adding certificate verification is strongly advised. See: https://urllib3.readthedocs.io/en/latest/advanced-usage.html#ssl-warnings\n",
      "  InsecureRequestWarning)\n",
      "C:\\ProgramData\\Anaconda3\\lib\\site-packages\\urllib3\\connectionpool.py:857: InsecureRequestWarning: Unverified HTTPS request is being made. Adding certificate verification is strongly advised. See: https://urllib3.readthedocs.io/en/latest/advanced-usage.html#ssl-warnings\n",
      "  InsecureRequestWarning)\n",
      "C:\\ProgramData\\Anaconda3\\lib\\site-packages\\urllib3\\connectionpool.py:857: InsecureRequestWarning: Unverified HTTPS request is being made. Adding certificate verification is strongly advised. See: https://urllib3.readthedocs.io/en/latest/advanced-usage.html#ssl-warnings\n",
      "  InsecureRequestWarning)\n",
      "C:\\ProgramData\\Anaconda3\\lib\\site-packages\\urllib3\\connectionpool.py:857: InsecureRequestWarning: Unverified HTTPS request is being made. Adding certificate verification is strongly advised. See: https://urllib3.readthedocs.io/en/latest/advanced-usage.html#ssl-warnings\n",
      "  InsecureRequestWarning)\n",
      "C:\\ProgramData\\Anaconda3\\lib\\site-packages\\urllib3\\connectionpool.py:857: InsecureRequestWarning: Unverified HTTPS request is being made. Adding certificate verification is strongly advised. See: https://urllib3.readthedocs.io/en/latest/advanced-usage.html#ssl-warnings\n",
      "  InsecureRequestWarning)\n",
      "C:\\ProgramData\\Anaconda3\\lib\\site-packages\\urllib3\\connectionpool.py:857: InsecureRequestWarning: Unverified HTTPS request is being made. Adding certificate verification is strongly advised. See: https://urllib3.readthedocs.io/en/latest/advanced-usage.html#ssl-warnings\n",
      "  InsecureRequestWarning)\n",
      "C:\\ProgramData\\Anaconda3\\lib\\site-packages\\urllib3\\connectionpool.py:857: InsecureRequestWarning: Unverified HTTPS request is being made. Adding certificate verification is strongly advised. See: https://urllib3.readthedocs.io/en/latest/advanced-usage.html#ssl-warnings\n",
      "  InsecureRequestWarning)\n",
      "C:\\ProgramData\\Anaconda3\\lib\\site-packages\\urllib3\\connectionpool.py:857: InsecureRequestWarning: Unverified HTTPS request is being made. Adding certificate verification is strongly advised. See: https://urllib3.readthedocs.io/en/latest/advanced-usage.html#ssl-warnings\n",
      "  InsecureRequestWarning)\n",
      "C:\\ProgramData\\Anaconda3\\lib\\site-packages\\urllib3\\connectionpool.py:857: InsecureRequestWarning: Unverified HTTPS request is being made. Adding certificate verification is strongly advised. See: https://urllib3.readthedocs.io/en/latest/advanced-usage.html#ssl-warnings\n",
      "  InsecureRequestWarning)\n",
      "C:\\ProgramData\\Anaconda3\\lib\\site-packages\\urllib3\\connectionpool.py:857: InsecureRequestWarning: Unverified HTTPS request is being made. Adding certificate verification is strongly advised. See: https://urllib3.readthedocs.io/en/latest/advanced-usage.html#ssl-warnings\n",
      "  InsecureRequestWarning)\n",
      "C:\\ProgramData\\Anaconda3\\lib\\site-packages\\urllib3\\connectionpool.py:857: InsecureRequestWarning: Unverified HTTPS request is being made. Adding certificate verification is strongly advised. See: https://urllib3.readthedocs.io/en/latest/advanced-usage.html#ssl-warnings\n",
      "  InsecureRequestWarning)\n",
      "C:\\ProgramData\\Anaconda3\\lib\\site-packages\\urllib3\\connectionpool.py:857: InsecureRequestWarning: Unverified HTTPS request is being made. Adding certificate verification is strongly advised. See: https://urllib3.readthedocs.io/en/latest/advanced-usage.html#ssl-warnings\n",
      "  InsecureRequestWarning)\n",
      "C:\\ProgramData\\Anaconda3\\lib\\site-packages\\urllib3\\connectionpool.py:857: InsecureRequestWarning: Unverified HTTPS request is being made. Adding certificate verification is strongly advised. See: https://urllib3.readthedocs.io/en/latest/advanced-usage.html#ssl-warnings\n",
      "  InsecureRequestWarning)\n",
      "C:\\ProgramData\\Anaconda3\\lib\\site-packages\\urllib3\\connectionpool.py:857: InsecureRequestWarning: Unverified HTTPS request is being made. Adding certificate verification is strongly advised. See: https://urllib3.readthedocs.io/en/latest/advanced-usage.html#ssl-warnings\n",
      "  InsecureRequestWarning)\n",
      "C:\\ProgramData\\Anaconda3\\lib\\site-packages\\urllib3\\connectionpool.py:857: InsecureRequestWarning: Unverified HTTPS request is being made. Adding certificate verification is strongly advised. See: https://urllib3.readthedocs.io/en/latest/advanced-usage.html#ssl-warnings\n",
      "  InsecureRequestWarning)\n",
      "C:\\ProgramData\\Anaconda3\\lib\\site-packages\\urllib3\\connectionpool.py:857: InsecureRequestWarning: Unverified HTTPS request is being made. Adding certificate verification is strongly advised. See: https://urllib3.readthedocs.io/en/latest/advanced-usage.html#ssl-warnings\n",
      "  InsecureRequestWarning)\n"
     ]
    }
   ],
   "source": [
    "# In[]: Create a loader fn \n",
    "def scraper (url_list):\n",
    "    string=''\n",
    "    for url in url_list:\n",
    "        soup = soupify(url)\n",
    "        script = soup.find(\"pre\")\n",
    "        scripttext = script.text\n",
    "        \n",
    "        scenes = scripttext.split('\\n\\n')\n",
    "        scenes_tr = scenes[8:] #remove headers, footer, OK, works\n",
    "        scenes_tr_text1='\\n\\n'.join(scenes_tr) #join back, OK\n",
    "        \n",
    "        scenes_tr_text2 = bracket_remover(scenes_tr_text1) #remove brackets and parenthesis\n",
    "        scenes_tr_text3 = scenes_tr_text2.split('\\n') #split by line\n",
    "        \n",
    "        scenes_tr_text4=[]\n",
    "        for i in scenes_tr_text3:\n",
    "            scenes_tr_text4.append(i.strip())\n",
    "        \n",
    "        # remove empty elements\n",
    "        scenes_tr_text5 = list(filter(None, scenes_tr_text4))\n",
    "        \n",
    "        # join back, how man \\n here also makes a diff\n",
    "        scenes_tr_text6='\\n'.join(scenes_tr_text5)\n",
    "        \n",
    "        string = string + scenes_tr_text6\n",
    "    return string \n",
    " \n",
    "stacked_text = scraper(url_list)     \n",
    "\n",
    "### Loaded all scripts ###\n",
    "# not truncating at the end - just mapping to THE END to two new lines"
   ]
  },
  {
   "cell_type": "code",
   "execution_count": 6,
   "metadata": {},
   "outputs": [],
   "source": [
    "# In[]:  Optional: Save to file in case if the website goes down again\n",
    "#file_name=\"stacked_text\"\n",
    "#fileObject = open(file_name,'wb') \n",
    "#pickle.dump(stacked_text,fileObject)  \n",
    "#fileObject.close()"
   ]
  },
  {
   "cell_type": "code",
   "execution_count": 7,
   "metadata": {},
   "outputs": [],
   "source": [
    "# In[]: load back the saved file\n",
    "#file_name=\"stacked_text\"\n",
    "#fileObject = open(file_name,'rb') \n",
    "#stacked_text_rel = pickle.load(fileObject) "
   ]
  },
  {
   "cell_type": "code",
   "execution_count": 8,
   "metadata": {},
   "outputs": [
    {
     "name": "stdout",
     "output_type": "stream",
     "text": [
      "\n",
      "View original input data: sentences 0 to 11:\n",
      "\n",
      "MAN\n",
      "Space. It seems to go on\n",
      "and on forever. But then you get to\n",
      "the end and the gorilla starts throwing\n",
      "barrels at you.\n",
      "FRY\n",
      "And that's how you play the game!\n",
      "KID\n",
      "You stink, loser!\n",
      "PANUCCI\n",
      "Hey, Fry. Pizza goin' out! C'mon!!\n"
     ]
    }
   ],
   "source": [
    "# In[]: Part 1: data preparation/cleanup\n",
    "# Map names and then tokenize, outside of loop- map names so that they get tokenized differently\n",
    "# got names from the first 3 episodes of season 1\n",
    "#stacked_text_cp1 = copy(stacked_text_rel)\n",
    "\n",
    "stacked_text_cp1 = copy(stacked_text)\n",
    "\n",
    "#view a sample of the original data\n",
    "view_sentence_range = (0, 11)\n",
    "\n",
    "print()\n",
    "print('View original input data: sentences {} to {}:'.format(*view_sentence_range))\n",
    "print()\n",
    "print('\\n'.join(stacked_text_cp1.split('\\n')[view_sentence_range[0]:view_sentence_range[1]]))"
   ]
  },
  {
   "cell_type": "code",
   "execution_count": 9,
   "metadata": {},
   "outputs": [
    {
     "name": "stdout",
     "output_type": "stream",
     "text": [
      "\n",
      "View prepared input data: sentences 0 to 11:\n",
      "\n",
      "MAN: \n",
      " Space. It seems to go on \n",
      " and on forever. But then you get to \n",
      " * end and * gorilla starts throwing \n",
      " barrels at you. \n",
      " FRY: \n",
      " And that's how you play * game! \n",
      " KID: \n",
      " You stink, loser! \n",
      " PANUCCI: \n",
      " Hey, Fry. Pizza goin' out! C'mon!! \n"
     ]
    }
   ],
   "source": [
    "# moved the dictionary object to another program, import from there\n",
    "token_dict = auxiliary.token_lookup()\n",
    "#this is a custom token lookup I created to clean up the text\n",
    "# I used to map articles \"the\" and \"a\" to star so that the tokenizer removes them later\n",
    "# I also use this map to clean up character names for better model performance\n",
    "# The same dictionary map is used in the reverse order to map to original words\n",
    "\n",
    "for key, token in token_dict.items():\n",
    "    stacked_text_cp1 = stacked_text_cp1.replace(key, '{}'.format(token))\n",
    "\n",
    "#OK, looks good so far - open in Spyder and copy/paste to Notepad++\n",
    "#removed articles: the a\n",
    "\n",
    "#view a sample of the cleaned up data\n",
    "text = copy(stacked_text_cp1)\n",
    "\n",
    "print()\n",
    "print('View prepared input data: sentences {} to {}:'.format(*view_sentence_range))\n",
    "print()\n",
    "print('\\n'.join(text.split('\\n')[view_sentence_range[0]:view_sentence_range[1]]))"
   ]
  },
  {
   "cell_type": "code",
   "execution_count": 10,
   "metadata": {},
   "outputs": [
    {
     "name": "stdout",
     "output_type": "stream",
     "text": [
      "\n",
      "Dataset Statistics:\n",
      "\n",
      "Number of episodes from seasons 1 and 2: 20\n",
      "Total number of characters (letters): 287,799\n",
      "Total number of words: 47,367\n",
      "Approximate the number of unique words (do not use): 9,807\n",
      "\n",
      "Approximate number of episodes: 1\n",
      "Average number of sentences in each episode: 12,195\n",
      "Number of lines: 12,196\n",
      "Average number of words in each line: 3.88\n",
      "Median number of words in each line: 3.0\n"
     ]
    }
   ],
   "source": [
    "# In[]: Part 1: EDA - basic statistics \n",
    "# Need about 50k words, so 20 episodes\n",
    "print('\\nDataset Statistics:')\n",
    "print()\n",
    "print('Number of episodes from seasons 1 and 2: {:,.0f}'.format(len(url_list)))\n",
    "print('Total number of characters (letters): {:,.0f}'.format(len(text)))\n",
    "print('Total number of words: {:,.0f}'.format(len([word for word in text.split()])))\n",
    "print('Approximate the number of unique words (do not use): {:,.0f}'.format(len({word: None for word in text.split()})))\n",
    "\n",
    "scenes = text.split('\\n\\n')\n",
    "print('\\nApproximate number of episodes: {}'.format(len(scenes)))\n",
    "sentence_count_scene = [scene.count('\\n') for scene in scenes]\n",
    "print('Average number of sentences in each episode: {:,.0f}'.format(np.average(sentence_count_scene)))\n",
    "sentences_full = [sentence for scene in scenes for sentence in scene.split('\\n')]\n",
    "print('Number of lines: {:,.0f}'.format(len(sentences_full)))\n",
    "word_count_sentence = [len(sentence.split()) for sentence in sentences_full]\n",
    "print('Average number of words in each line: {:.2f}'.format(np.average(word_count_sentence)))\n",
    "#more descriptive stats\n",
    "print ('Median number of words in each line:', np.median(word_count_sentence))\n",
    "\n",
    "#Original data is kind of weird - sentences can be split into short lines, but this is what I have to work with.\n",
    "#expecting general model output to look similiar to the input"
   ]
  },
  {
   "cell_type": "code",
   "execution_count": 11,
   "metadata": {},
   "outputs": [
    {
     "name": "stdout",
     "output_type": "stream",
     "text": [
      "\n",
      "\n",
      "(0, 15)\n"
     ]
    },
    {
     "data": {
      "image/png": "[encoded data removed]",
      "text/plain": [
       "<matplotlib.figure.Figure at 0x1d6a779cac8>"
      ]
     },
     "metadata": {},
     "output_type": "display_data"
    }
   ],
   "source": [
    "# In[]: Part 1: Visualizations\n",
    "#a quick histogram for sentence lengths\n",
    "print ('\\n')\n",
    "df1 = pd.DataFrame(word_count_sentence, columns=['len'])\n",
    "hist1 = df1['len'].hist(bins=20)\n",
    "plt.title('Distribution of the sentence length (count of words in each sentence)') \n",
    "print ( hist1.set_xlim((0,15)) )"
   ]
  },
  {
   "cell_type": "code",
   "execution_count": 12,
   "metadata": {},
   "outputs": [],
   "source": [
    "# In[]: Part 2: Tokenization (coversion of words to integers to be used in the network)\n",
    "# Now tokenize and find out if need more cleaning\n",
    "\n",
    "max_words=5000 #use only top 5k even though all 6k in show in the dictionary\n",
    "\n",
    "tokenizer = Tokenizer(num_words=None, \n",
    "                       filters='!\"$%&()*+,-./;<=>?@[\\]^`{|}~',\n",
    "                       lower=True,\n",
    "                       split=\" \",\n",
    "                       char_level=False,\n",
    "                       oov_token=None)\n",
    "\n",
    "tokenizer.fit_on_texts([text]) #fit to encode\n",
    "\n",
    "# summarize what was learned\n",
    "t_word_counts = tokenizer.word_counts #not sorted, A dictionary of words and their counts.\n",
    "t_document_count = tokenizer.document_count # =1 An integer count of the total number of documents that were used to fit the Tokenizer.\n",
    "t_word_index = tokenizer.word_index # A dictionary of words and their uniquely assigned integers.\n",
    "t_word_docs = tokenizer.word_docs # A dictionary of words and how many documents each appeared in.\n",
    "\n",
    "#some typos in the text exist that I cannot automatically fix"
   ]
  },
  {
   "cell_type": "code",
   "execution_count": 13,
   "metadata": {},
   "outputs": [
    {
     "name": "stdout",
     "output_type": "stream",
     "text": [
      "\n",
      " 12195\n",
      "you 1188\n",
      "i 1142\n",
      "fry: 999\n",
      "to 904\n",
      "bender: 681\n",
      "leela: 658\n",
      "of 615\n",
      "and 604\n",
      "it 519\n",
      "that 408\n",
      "in 402\n",
      "my 398\n",
      "is 397\n",
      "this 381\n",
      "i'm 346\n",
      "your 328\n",
      "me 312\n",
      "for 311\n",
      "on 297\n",
      "but 283\n",
      "what 279\n",
      "we 273\n",
      "it's 272\n",
      "just 268\n",
      "be 258\n"
     ]
    }
   ],
   "source": [
    "# In[]: Part 1: EDA most popular words\n",
    "t_word_counts2 = OrderedDict(sorted(t_word_counts.items(), key=lambda x: x[1],reverse=True))\n",
    "\n",
    "ntop_words=25\n",
    "counter=0\n",
    "for k, v in t_word_counts2.items():\n",
    "    counter = counter + 1\n",
    "    #print (counter)\n",
    "    print(k, v)\n",
    "    if counter >ntop_words:\n",
    "        break\n",
    "\n",
    "#note the most popular character is the \\n - newline, leave it\n",
    "#most popular real word is \"you\""
   ]
  },
  {
   "cell_type": "code",
   "execution_count": 14,
   "metadata": {},
   "outputs": [
    {
     "name": "stdout",
     "output_type": "stream",
     "text": [
      "fry: 999\n",
      "bender: 681\n",
      "leela: 658\n",
      "farnsworth: 255\n",
      "hermes: 66\n"
     ]
    }
   ],
   "source": [
    "# In[]: Part 1: EDA: which characters have the most sayings?    \n",
    "main_chars=['BENDER:','FRY:','LEELA:','FARNSWORTH:','HERMES:']    \n",
    "for k, v in t_word_counts2.items():\n",
    "    if k.upper() in main_chars:\n",
    "        print(k, v)"
   ]
  },
  {
   "cell_type": "code",
   "execution_count": 15,
   "metadata": {},
   "outputs": [
    {
     "name": "stdout",
     "output_type": "stream",
     "text": [
      "bender 187\n",
      "fry 186\n",
      "leela 81\n",
      "hermes 12\n",
      "farnsworth 5\n"
     ]
    }
   ],
   "source": [
    "# In[]: note that names used within text are distinct from the speakers  \n",
    "# Q: which character names appear the most in the text?\n",
    "main_chars=['BENDER','FRY','LEELA','FARNSWORTH','HERMES']    \n",
    "for k, v in t_word_counts2.items():\n",
    "    if k.upper() in main_chars:\n",
    "        print(k, v)\n",
    "\n",
    "#Makes sense: Fry and Bender do the most talking and are also the most talked about"
   ]
  },
  {
   "cell_type": "code",
   "execution_count": 16,
   "metadata": {},
   "outputs": [
    {
     "name": "stdout",
     "output_type": "stream",
     "text": [
      "gorilla 1\n",
      "barrels 1\n",
      "kid: 1\n",
      "panucci: 1\n",
      "michelle 1\n",
      "michelle: 1\n",
      "sidewalk 1\n",
      "bike_thief: 1\n",
      "wiener 1\n",
      "millennium 1\n",
      "neuf 1\n",
      "otto 1\n",
      "sabaa 1\n",
      "eksi 1\n",
      "chaar 1\n",
      "thathu 1\n",
      "yahoo 1\n",
      "showmanship 1\n",
      "destiny 1\n",
      "awaits 1\n",
      "blimp 1\n",
      "accurate 1\n",
      "december 1\n",
      "2999 1\n",
      "upsetting 1\n",
      "suspect 1\n"
     ]
    }
   ],
   "source": [
    "# In[]: Part 1: EDA: Which are some of the least popular words?\n",
    "t_word_counts3 = OrderedDict(sorted(t_word_counts.items(), key=lambda x: x[1],reverse=False))\n",
    "\n",
    "counter=0\n",
    "for k, v in t_word_counts3.items():\n",
    "    counter = counter + 1\n",
    "    #print (counter)\n",
    "    print(k, v)\n",
    "    if counter >ntop_words:\n",
    "        break    \n",
    "\n",
    "# a lot of words appear only once"
   ]
  },
  {
   "cell_type": "code",
   "execution_count": 17,
   "metadata": {},
   "outputs": [
    {
     "name": "stdout",
     "output_type": "stream",
     "text": [
      "Actual number of unique tokenized words: 6,040\n"
     ]
    }
   ],
   "source": [
    "# In[]: Part 1: EDA: check the percentiles of word counts\n",
    "word_count_list=[]\n",
    "for k, v in t_word_counts.items():\n",
    "    word_count_list.append(v)\n",
    "\n",
    "print('Actual number of unique tokenized words: {:,.0f}'.format(len(word_count_list)))"
   ]
  },
  {
   "cell_type": "code",
   "execution_count": 18,
   "metadata": {},
   "outputs": [
    {
     "name": "stdout",
     "output_type": "stream",
     "text": [
      "                len\n",
      "count   6040.000000\n",
      "mean       9.559272\n",
      "std      161.957034\n",
      "min        1.000000\n",
      "50%        1.000000\n",
      "59%        2.000000\n",
      "75%        3.000000\n",
      "80%        4.000000\n",
      "85%        6.000000\n",
      "90%        9.000000\n",
      "95%       21.000000\n",
      "96%       27.000000\n",
      "97%       37.000000\n",
      "98%       61.220000\n",
      "99%      135.320000\n",
      "99.9%    656.323000\n",
      "max    12195.000000\n"
     ]
    }
   ],
   "source": [
    "# In[]: Frequency percentiles    \n",
    "df2 = pd.DataFrame(word_count_list, columns=['len'])\n",
    "\n",
    "print (df2.describe(percentiles=[.50,.59,.75,.80,.85,.90,.95,.96,.97,.98,.99,.999]))\n",
    "#58% of words appear only once"
   ]
  },
  {
   "cell_type": "code",
   "execution_count": 19,
   "metadata": {},
   "outputs": [
    {
     "name": "stdout",
     "output_type": "stream",
     "text": [
      "\n",
      "\n",
      "(0, 1200)\n"
     ]
    },
    {
     "data": {
      "image/png": "[encoded data removed]",
      "text/plain": [
       "<matplotlib.figure.Figure at 0x1d697b614e0>"
      ]
     },
     "metadata": {},
     "output_type": "display_data"
    }
   ],
   "source": [
    "# In[]: Part 1: EDA: Histogram of word counts\n",
    "#truncate the outliers\n",
    "df2_clip = df2[(df2['len'] > 1) & (df2['len'] < 1200)]\n",
    "\n",
    "hist2 = df2_clip['len'].hist(bins=100)\n",
    "plt.title('Distribution of word counts - truncated outliers')\n",
    "print ('\\n') \n",
    "print ( hist2.set_xlim((0,1200)) )"
   ]
  },
  {
   "cell_type": "code",
   "execution_count": 20,
   "metadata": {},
   "outputs": [
    {
     "name": "stdout",
     "output_type": "stream",
     "text": [
      "\n",
      "\n",
      "(0, 100)\n"
     ]
    },
    {
     "data": {
      "image/png": "[encoded data removed]",
      "text/plain": [
       "<matplotlib.figure.Figure at 0x1d6983813c8>"
      ]
     },
     "metadata": {},
     "output_type": "display_data"
    }
   ],
   "source": [
    "# In[]: Density plot\n",
    "hist3 = df2_clip['len'].plot.kde()\n",
    "plt.title('Density of word counts - truncated some more') \n",
    "print ('\\n')\n",
    "print ( hist3.set_xlim((0,100)) )\n",
    "\n",
    "#Histogram and density plots are not very useful but we get the idea - data is very long tailed\n",
    "#A few words appear frequently and most words appear very rarely"
   ]
  },
  {
   "cell_type": "code",
   "execution_count": 21,
   "metadata": {},
   "outputs": [],
   "source": [
    "# In[]: Data prep - now also export the total word dictionary\n",
    "word_dict =[]\n",
    "for key, value in t_word_counts2.items():\n",
    "    temp = [key,value]\n",
    "    word_dict.append(temp)\n",
    "\n",
    "word_df = pd.DataFrame(word_dict,columns=['key','value']) #OK\n",
    "word_df.to_csv('word_dict.csv')\n",
    "#good, much easier to review in Excel\n",
    "#dictionary seems decent enough"
   ]
  },
  {
   "cell_type": "code",
   "execution_count": 22,
   "metadata": {},
   "outputs": [
    {
     "name": "stdout",
     "output_type": "stream",
     "text": [
      "\n",
      "Vocabulary Size - unique words: 6041\n"
     ]
    }
   ],
   "source": [
    "# In[]:  Data prep - need dictionary maps - from word to integer and backwards\n",
    "int_text = tokenizer.texts_to_sequences([text])[0] #then map the whole text to be modeled \n",
    "\n",
    "# determine the vocabulary size - do not need the counter\n",
    "vocab_size = len(tokenizer.word_index) + 1\n",
    "print('\\nVocabulary Size - unique words: %d' % vocab_size)\n",
    "\n",
    "vocab_to_int = tokenizer.word_index #for mapping words to integers \n",
    "int_to_word = { i : word for word, i in vocab_to_int.items() } #and integers to words\n",
    "#stock tokenizer "
   ]
  },
  {
   "cell_type": "code",
   "execution_count": 23,
   "metadata": {},
   "outputs": [],
   "source": [
    "# In[]: Part 2: Training data creation - Create X,y as rolling of each other\n",
    "seq_length = 20 #my sentences will be 20 long. \n",
    "step = 1 #step/increment by 1 word to create as many samples/observations as possible - \n",
    "\n",
    "#input must be like int_sentences - a list of lists of integers\n",
    "def f_create_samples(input1, maxlen=20, step=1):\n",
    "    x = []\n",
    "    y = []\n",
    "    sequence = np.array(input1, dtype=np.int32)\n",
    "    len1=len(sequence)\n",
    "    num_samples = len1 - maxlen #how many can fit by rolling forward?\n",
    "    \n",
    "    for i in range(0, num_samples, step):\n",
    "        x.append(sequence[i: i + maxlen]) \n",
    "        y.append(sequence[i + maxlen])\n",
    "        \n",
    "    return x, y\n",
    "\n",
    "features, next_chars = f_create_samples(int_text, maxlen=seq_length, step=step) \n",
    "# number of sentences x 20 words in each - list of arrays and a list"
   ]
  },
  {
   "cell_type": "code",
   "execution_count": 24,
   "metadata": {},
   "outputs": [],
   "source": [
    "# In[]: Data prep - shuffle the training data\n",
    "#need to shuffle in unison though - so that x and y stay in pairs\n",
    "#https://stackoverflow.com/questions/4601373/better-way-to-shuffle-two-numpy-arrays-in-unison\n",
    "\n",
    "def f_shuffle_in_unison(a, b):\n",
    "    assert len(a) == len(b)\n",
    "    p = np.random.permutation(len(a))\n",
    "    return a[p], b[p]"
   ]
  },
  {
   "cell_type": "code",
   "execution_count": 25,
   "metadata": {},
   "outputs": [],
   "source": [
    "# Create X and y - from next_chars\n",
    "x_reshape = np.array(features) \n",
    "y = np.array(next_chars) \n",
    "\n",
    "x_var, y = f_shuffle_in_unison(x_reshape , y)\n",
    "\n",
    "y_var = to_categorical(y, num_classes=vocab_size) \n",
    "\n",
    "# In[]: End of Proj_prog1"
   ]
  },
  {
   "cell_type": "code",
   "execution_count": 26,
   "metadata": {},
   "outputs": [],
   "source": [
    "# Beginning of Proj_prog2\n",
    "# In[]: Set a separate directory for the simple benchmark\n",
    "save_dir='./simple'\n",
    "if not os.path.exists(save_dir):\n",
    "    os.mkdir(save_dir)"
   ]
  },
  {
   "cell_type": "code",
   "execution_count": 27,
   "metadata": {},
   "outputs": [],
   "source": [
    "# In[]: Optional:\n",
    "#put labels into metadata file for projecting in Tensorboard\n",
    "meta_path=os.path.join(save_dir, \"metadata.tsv\")\n",
    "#but this has 1 fewer entry now than features\n",
    " \n",
    "with open(meta_path, 'w', encoding=\"utf-8\") as f:\n",
    "    for word in vocab_to_int:\n",
    "        f.write(word + '\\n')\n",
    "    f.write('xxxxx' + '\\n')"
   ]
  },
  {
   "cell_type": "code",
   "execution_count": 28,
   "metadata": {},
   "outputs": [],
   "source": [
    "# In[]: Part 3: Build and evaluate the benchmark models\n",
    "# Random benchmark model - guess a word at random\n",
    "    \n",
    "# In[]: Accuracy metric - Grabbed from Keras and replaced Keras backend with numpy, worked\n",
    "# https://github.com/keras-team/keras/blob/master/keras/metrics.py\n",
    "def f_categorical_accuracy_np(y_true, y_pred, v_round=4):\n",
    "    '''From Keras - Calculates the mean accuracy rate across all predictions for\n",
    "    multiclass classification problems.\n",
    "    '''\n",
    "    accuracy = np.mean(np.equal(np.argmax(y_true, axis=-1), np.argmax(y_pred, axis=-1)))\n",
    "    return round(accuracy,v_round)"
   ]
  },
  {
   "cell_type": "code",
   "execution_count": 29,
   "metadata": {},
   "outputs": [
    {
     "name": "stdout",
     "output_type": "stream",
     "text": [
      "Random benchmark accuracy - Expecting accuracy=0 \n",
      "\n",
      "0.0002\n"
     ]
    }
   ],
   "source": [
    "# In[]:  now build the random model and measure accuracy with my numpy\n",
    "#just fill an array with random values\n",
    "y_random = np.random.randn(len(y),vocab_size)\n",
    "\n",
    "# In[]: \n",
    "print (\"Random benchmark accuracy - Expecting accuracy=0 \\n\")\n",
    "print (f_categorical_accuracy_np(y_var, y_random))\n",
    "#given such a high dimensionality, picking words at random means accuracy = 0\n",
    "# meaning it's impossible to randomly guess the next word correclty\n",
    "# 0 is not much of a benchmark, so create a simple RNN (the one that sufferes from diminishing gradient)\n"
   ]
  },
  {
   "cell_type": "code",
   "execution_count": 30,
   "metadata": {},
   "outputs": [
    {
     "name": "stdout",
     "output_type": "stream",
     "text": [
      "Build model...\n",
      "_________________________________________________________________\n",
      "Layer (type)                 Output Shape              Param #   \n",
      "=================================================================\n",
      "embedding_1 (Embedding)      (None, 20, 50)            302050    \n",
      "_________________________________________________________________\n",
      "simple_rnn_1 (SimpleRNN)     (None, 30)                2430      \n",
      "_________________________________________________________________\n",
      "dense_1 (Dense)              (None, 6041)              187271    \n",
      "=================================================================\n",
      "Total params: 491,751\n",
      "Trainable params: 491,751\n",
      "Non-trainable params: 0\n",
      "_________________________________________________________________\n"
     ]
    }
   ],
   "source": [
    "# In[]: Proper benchmark - Simple RNN\n",
    "#Embedding size - how many wgts/features per word \n",
    "embed_dim = 50 \n",
    "\n",
    "# RNN Size - how many units in the hidden layer\n",
    "rnn_size = 30\n",
    " \n",
    "keras.backend.clear_session() #w/o this part was causing errors before\n",
    "\n",
    "print('Build model...')\n",
    "model = Sequential()\n",
    "\n",
    "model.add(Embedding(input_dim=vocab_size \n",
    "                    ,output_dim=embed_dim \n",
    "                    ,input_length=seq_length)) \n",
    "\n",
    "model.add(SimpleRNN(units=rnn_size))\n",
    "\n",
    "model.add(Dense(units=vocab_size, activation='softmax'))\n",
    "\n",
    "model.compile(loss='categorical_crossentropy', optimizer='adam', metrics=['accuracy'])\n",
    "\n",
    "model.summary()"
   ]
  },
  {
   "cell_type": "code",
   "execution_count": 31,
   "metadata": {},
   "outputs": [],
   "source": [
    "# In[]: output the network summary graph into an image for the record\n",
    "model_name='model_'+ 'SimpleRNN_' + str(rnn_size)\n",
    "mgraph=os.path.join(save_dir, model_name + '.png')"
   ]
  },
  {
   "cell_type": "code",
   "execution_count": 32,
   "metadata": {},
   "outputs": [
    {
     "data": {
      "image/png": "[encoded data removed]",
      "text/plain": [
       "<matplotlib.figure.Figure at 0x1d6983e3e48>"
      ]
     },
     "metadata": {},
     "output_type": "display_data"
    }
   ],
   "source": [
    "# In[]: Plot and save\n",
    "plot_model(model, show_shapes=True, to_file=mgraph)\n",
    "img = mpimg.imread(mgraph)\n",
    "plt.axis('off')\n",
    "plt.imshow(img)\n",
    "plt.show()"
   ]
  },
  {
   "cell_type": "code",
   "execution_count": 33,
   "metadata": {},
   "outputs": [],
   "source": [
    "# In[]: Do not have to feed all the data right away - test and overfit on a small subset first\n",
    "x_sample = x_var#[0:10]\n",
    "y_sample = y_var#[0:10]"
   ]
  },
  {
   "cell_type": "code",
   "execution_count": 34,
   "metadata": {},
   "outputs": [
    {
     "name": "stdout",
     "output_type": "stream",
     "text": [
      "Train on 46174 samples, validate on 11544 samples\n",
      "Epoch 1/25\n",
      "46174/46174 [==============================] - 33s 718us/step - loss: 6.0265 - acc: 0.2148 - val_loss: 5.7000 - val_acc: 0.2293\n",
      "Epoch 2/25\n",
      "46174/46174 [==============================] - 33s 714us/step - loss: 5.4114 - acc: 0.2306 - val_loss: 5.6325 - val_acc: 0.2335\n",
      "Epoch 3/25\n",
      "46174/46174 [==============================] - 33s 708us/step - loss: 5.2055 - acc: 0.2352 - val_loss: 5.6366 - val_acc: 0.2336\n",
      "Epoch 4/25\n",
      "46174/46174 [==============================] - 33s 709us/step - loss: 5.0444 - acc: 0.2402 - val_loss: 5.6460 - val_acc: 0.2345\n",
      "Epoch 5/25\n",
      "46174/46174 [==============================] - 33s 708us/step - loss: 4.9023 - acc: 0.2452 - val_loss: 5.6757 - val_acc: 0.2294\n",
      "Epoch 6/25\n",
      "46174/46174 [==============================] - 33s 712us/step - loss: 4.7729 - acc: 0.2511 - val_loss: 5.6843 - val_acc: 0.2290\n",
      "Epoch 7/25\n",
      "46174/46174 [==============================] - 33s 714us/step - loss: 4.6527 - acc: 0.2574 - val_loss: 5.7024 - val_acc: 0.2257\n",
      "Epoch 8/25\n",
      "46174/46174 [==============================] - 34s 728us/step - loss: 4.5372 - acc: 0.2630 - val_loss: 5.7308 - val_acc: 0.2259\n",
      "Epoch 9/25\n",
      "46174/46174 [==============================] - 33s 714us/step - loss: 4.4256 - acc: 0.2709 - val_loss: 5.7548 - val_acc: 0.2221\n",
      "Epoch 10/25\n",
      "46174/46174 [==============================] - 33s 713us/step - loss: 4.3240 - acc: 0.2766 - val_loss: 5.7744 - val_acc: 0.2218\n",
      "Epoch 11/25\n",
      "46174/46174 [==============================] - 33s 709us/step - loss: 4.2267 - acc: 0.2821 - val_loss: 5.8126 - val_acc: 0.2168\n",
      "Epoch 12/25\n",
      "46174/46174 [==============================] - 33s 711us/step - loss: 4.1346 - acc: 0.2894 - val_loss: 5.8234 - val_acc: 0.2195\n",
      "Epoch 13/25\n",
      "46174/46174 [==============================] - 33s 708us/step - loss: 4.0466 - acc: 0.2972 - val_loss: 5.8732 - val_acc: 0.2141\n",
      "Epoch 14/25\n",
      "46174/46174 [==============================] - 33s 714us/step - loss: 3.9630 - acc: 0.3035 - val_loss: 5.8890 - val_acc: 0.2133\n",
      "Epoch 15/25\n",
      "46174/46174 [==============================] - 33s 709us/step - loss: 3.8849 - acc: 0.3121 - val_loss: 5.9287 - val_acc: 0.2147\n",
      "Epoch 16/25\n",
      "46174/46174 [==============================] - 33s 709us/step - loss: 3.8082 - acc: 0.3206 - val_loss: 5.9684 - val_acc: 0.2123\n",
      "Epoch 17/25\n",
      "46174/46174 [==============================] - 33s 712us/step - loss: 3.7371 - acc: 0.3287 - val_loss: 6.0123 - val_acc: 0.2115\n",
      "Epoch 18/25\n",
      "46174/46174 [==============================] - 33s 710us/step - loss: 3.6668 - acc: 0.3383 - val_loss: 6.0413 - val_acc: 0.2100\n",
      "Epoch 19/25\n",
      "46174/46174 [==============================] - 33s 710us/step - loss: 3.6037 - acc: 0.3464 - val_loss: 6.0702 - val_acc: 0.2110\n",
      "Epoch 20/25\n",
      "46174/46174 [==============================] - 33s 711us/step - loss: 3.5410 - acc: 0.3543 - val_loss: 6.1017 - val_acc: 0.2064\n",
      "Epoch 21/25\n",
      "46174/46174 [==============================] - 33s 712us/step - loss: 3.4823 - acc: 0.3615 - val_loss: 6.1444 - val_acc: 0.2041\n",
      "Epoch 22/25\n",
      "46174/46174 [==============================] - 33s 709us/step - loss: 3.4267 - acc: 0.3689 - val_loss: 6.1870 - val_acc: 0.2044\n",
      "Epoch 23/25\n",
      "46174/46174 [==============================] - 33s 712us/step - loss: 3.3726 - acc: 0.3742 - val_loss: 6.2049 - val_acc: 0.2053\n",
      "Epoch 24/25\n",
      "46174/46174 [==============================] - 33s 709us/step - loss: 3.3247 - acc: 0.3819 - val_loss: 6.2347 - val_acc: 0.2042\n",
      "Epoch 25/25\n",
      "46174/46174 [==============================] - 33s 708us/step - loss: 3.2792 - acc: 0.3873 - val_loss: 6.2881 - val_acc: 0.2048\n",
      "Keras  gd_batch:  32 total time:  824.35 , epochs:  25 , time per epoch:  32.97\n"
     ]
    }
   ],
   "source": [
    "# In[]:  Training\n",
    "# Number of Epochs - 25 is fast and sufficient\n",
    "num_epochs = 25\n",
    "\n",
    "gd_batch=32 #batch size, how many samples trained at once. interactions with num_epochs\n",
    "#so, with smaller batches you need fewer epochs to train to the same result\n",
    "\n",
    "#measure overall training time\n",
    "b_gpu = time.time() \n",
    "\n",
    "callbacks_list = [\n",
    "        keras.callbacks.TensorBoard(\n",
    "        log_dir=save_dir, \n",
    "        histogram_freq=0, \n",
    "        write_graph=True, \n",
    "        embeddings_freq=0,\n",
    "        embeddings_metadata=\"metadata.tsv\"\n",
    "        )]\n",
    "\n",
    "history = model.fit(x_sample, y_sample,\n",
    "        batch_size=gd_batch,\n",
    "        epochs=num_epochs,\n",
    "        verbose=1,\n",
    "        validation_split=0.2, \n",
    "        callbacks=callbacks_list)\n",
    "\n",
    "d_gpu = time.time() - b_gpu\n",
    "print (\"Keras \",\"gd_batch: \",gd_batch,\"total time: \",round(d_gpu,2), \", epochs: \",num_epochs, \", time per epoch: \", round(d_gpu / num_epochs,2) )\n",
    "#simple rnn with 30 units, batch size 32 - 14 minutes, 34 secs/epoch\n",
    "\n",
    "# Review any good fun stuff in Tensorboard\n",
    "# \"C:\\ProgramData\\Anaconda3\\Scripts\\tensorboard.exe\" --logdir \"C:\\Users\\rf\\Google Drive\\Education\\Python\\Codes\\ML_nano\\p6_rnn\\capstone\\simple\"\n",
    "# Scalars: loss and accuracy graphs showing OK\n",
    "# Graphs: the network showing OK"
   ]
  },
  {
   "cell_type": "code",
   "execution_count": 35,
   "metadata": {},
   "outputs": [
    {
     "data": {
      "image/png": "[encoded data removed]",
      "text/plain": [
       "<matplotlib.figure.Figure at 0x1d84f53c4e0>"
      ]
     },
     "metadata": {},
     "output_type": "display_data"
    },
    {
     "data": {
      "image/png": "[encoded data removed]",
      "text/plain": [
       "<matplotlib.figure.Figure at 0x1d6ffdde908>"
      ]
     },
     "metadata": {},
     "output_type": "display_data"
    }
   ],
   "source": [
    "# In[]: Plot my own diagnostics (or can grab from Tensorboard)\n",
    "#save this to images as well for later comparison\n",
    "\n",
    "acc = history.history['acc']\n",
    "val_acc = history.history['val_acc']\n",
    "loss = history.history['loss']\n",
    "val_loss = history.history['val_loss']\n",
    "\n",
    "epochs = range(len(acc))\n",
    "\n",
    "plt.plot(epochs, acc, 'bo', label='Training acc')\n",
    "plt.plot(epochs, val_acc, 'b', label='Validation acc')\n",
    "plt.title('Training and validation accuracy')\n",
    "plt.legend()\n",
    "\n",
    "acc_graph=os.path.join(save_dir, model_name + '_acc.png')\n",
    "plt.savefig(acc_graph)\n",
    "plt.show()\n",
    "\n",
    "plt.plot(epochs, loss, 'bo', label='Training loss')\n",
    "plt.plot(epochs, val_loss, 'b', label='Validation loss')\n",
    "plt.title('Training and validation loss')\n",
    "plt.legend()\n",
    "\n",
    "loss_graph=os.path.join(save_dir, model_name + '_loss.png')\n",
    "plt.savefig(loss_graph)\n",
    "plt.show()\n"
   ]
  },
  {
   "cell_type": "code",
   "execution_count": 36,
   "metadata": {},
   "outputs": [],
   "source": [
    "# In[]: define name for saving\n",
    "manual_save = os.path.join(save_dir, model_name + '.h5')\n",
    "# actual save\n",
    "model.save(manual_save) "
   ]
  },
  {
   "cell_type": "code",
   "execution_count": 37,
   "metadata": {},
   "outputs": [
    {
     "name": "stdout",
     "output_type": "stream",
     "text": [
      "Categorical accuracy on the whole data set:\n",
      "0.3728\n"
     ]
    }
   ],
   "source": [
    "# In[]: Predict and measure accuracy on the whole data set (training + validation)\n",
    "yprob = model.predict(x_sample, verbose=0)\n",
    "\n",
    "print (\"Categorical accuracy on the whole data set:\")\n",
    "print (f_categorical_accuracy_np(y_sample, yprob) )\n",
    "#OK, my evaluation metric makes sense\n",
    "#OK, this looks like a decent benchmark to beat - accuracy on the whole data set is 0.3722\n",
    "\n",
    "# In[]:  End of Proj_prog2 - training the benchmark models"
   ]
  },
  {
   "cell_type": "code",
   "execution_count": 38,
   "metadata": {},
   "outputs": [],
   "source": [
    "# Beginning of Proj_prog3\n",
    "# In[]: set its own directory\n",
    "save_dir='./CuDNNGRU_proj'\n",
    "if not os.path.exists(save_dir):\n",
    "    os.mkdir(save_dir)"
   ]
  },
  {
   "cell_type": "code",
   "execution_count": 39,
   "metadata": {},
   "outputs": [],
   "source": [
    "# In[]: Optional:\n",
    "#put labels into metadata file for projecting in Tensorboard\n",
    "meta_path=os.path.join(save_dir, \"metadata.tsv\")\n",
    "#but this has 1 fewer entry now than features\n",
    " \n",
    "with open(meta_path, 'w', encoding=\"utf-8\") as f:\n",
    "    for word in vocab_to_int:\n",
    "        f.write(word + '\\n')\n",
    "    f.write('xxxxx' + '\\n')"
   ]
  },
  {
   "cell_type": "code",
   "execution_count": 40,
   "metadata": {},
   "outputs": [
    {
     "name": "stdout",
     "output_type": "stream",
     "text": [
      "Build model...\n",
      "_________________________________________________________________\n",
      "Layer (type)                 Output Shape              Param #   \n",
      "=================================================================\n",
      "embedding_1 (Embedding)      (None, 20, 200)           1208200   \n",
      "_________________________________________________________________\n",
      "cu_dnngru_1 (CuDNNGRU)       (None, 256)               351744    \n",
      "_________________________________________________________________\n",
      "dense_1 (Dense)              (None, 6041)              1552537   \n",
      "=================================================================\n",
      "Total params: 3,112,481\n",
      "Trainable params: 3,112,481\n",
      "Non-trainable params: 0\n",
      "_________________________________________________________________\n"
     ]
    }
   ],
   "source": [
    "# In[]: GRU model\n",
    "#Embedding size - how many wgts/features per word \n",
    "embed_dim = 200 \n",
    "\n",
    "# RNN Size - how many units in the hidden layer\n",
    "rnn_size = 256 \n",
    "\n",
    "lrate = 0.001 #larger means it learns faster\n",
    "\n",
    "keras.backend.clear_session() #w/o this part was causing errors before\n",
    "\n",
    "print('Build model...')\n",
    "model = Sequential()\n",
    "\n",
    "model.add(Embedding(input_dim=vocab_size #6040 + 1 unique words\n",
    "                    ,output_dim=embed_dim # number of features per word\n",
    "                    ,input_length=seq_length)) #20 words in a sentence - input/output\n",
    "\n",
    "model.add(layers.CuDNNGRU(rnn_size\n",
    "                          ))\n",
    "\n",
    "model.add(Dense(units=vocab_size, activation='softmax'\n",
    "                ))\n",
    "\n",
    "theoptimizer = keras.optimizers.Adam(lr=lrate) #RMS fit worse\n",
    "\n",
    "model.compile(loss='categorical_crossentropy', optimizer=theoptimizer, metrics=['accuracy'])\n",
    "\n",
    "model.summary()"
   ]
  },
  {
   "cell_type": "code",
   "execution_count": 41,
   "metadata": {},
   "outputs": [
    {
     "data": {
      "image/png": "[encoded data removed]",
      "text/plain": [
       "<matplotlib.figure.Figure at 0x1d84f3e26a0>"
      ]
     },
     "metadata": {},
     "output_type": "display_data"
    }
   ],
   "source": [
    "# In[]: #output the network summary graph into an image for the record\n",
    "model_name='model_'+ 'CuDNNGRU_proj_' + str(rnn_size)\n",
    "mgraph=os.path.join(save_dir, model_name + '.png')\n",
    "\n",
    "plot_model(model, show_shapes=True, to_file=mgraph)\n",
    "img = mpimg.imread(mgraph)\n",
    "plt.axis('off')\n",
    "plt.imshow(img)\n",
    "plt.show()"
   ]
  },
  {
   "cell_type": "code",
   "execution_count": 42,
   "metadata": {},
   "outputs": [
    {
     "name": "stdout",
     "output_type": "stream",
     "text": [
      "Train on 54832 samples, validate on 2886 samples\n",
      "Epoch 1/25\n",
      "54832/54832 [==============================] - 39s 711us/step - loss: 5.7359 - acc: 0.2297 - val_loss: 5.3839 - val_acc: 0.2408\n",
      "Epoch 2/25\n",
      "54832/54832 [==============================] - 38s 697us/step - loss: 4.9752 - acc: 0.2491 - val_loss: 5.3001 - val_acc: 0.2460\n",
      "Epoch 3/25\n",
      "54832/54832 [==============================] - 38s 695us/step - loss: 4.4294 - acc: 0.2715 - val_loss: 5.3609 - val_acc: 0.2426\n",
      "Epoch 4/25\n",
      "54832/54832 [==============================] - 38s 697us/step - loss: 3.8032 - acc: 0.3036 - val_loss: 5.4598 - val_acc: 0.2502\n",
      "Epoch 5/25\n",
      "54832/54832 [==============================] - 38s 697us/step - loss: 3.1348 - acc: 0.3763 - val_loss: 5.6270 - val_acc: 0.2370\n",
      "Epoch 6/25\n",
      "54832/54832 [==============================] - 38s 697us/step - loss: 2.5220 - acc: 0.4711 - val_loss: 5.7899 - val_acc: 0.2256\n",
      "Epoch 7/25\n",
      "54832/54832 [==============================] - 38s 696us/step - loss: 2.0293 - acc: 0.5576 - val_loss: 5.9705 - val_acc: 0.2256\n",
      "Epoch 8/25\n",
      "54832/54832 [==============================] - 38s 694us/step - loss: 1.6318 - acc: 0.6411 - val_loss: 6.1646 - val_acc: 0.2179\n",
      "Epoch 9/25\n",
      "54832/54832 [==============================] - 39s 710us/step - loss: 1.3065 - acc: 0.7047 - val_loss: 6.3689 - val_acc: 0.2079\n",
      "Epoch 10/25\n",
      "54832/54832 [==============================] - 38s 699us/step - loss: 1.0410 - acc: 0.7662 - val_loss: 6.5849 - val_acc: 0.2041\n",
      "Epoch 11/25\n",
      "54832/54832 [==============================] - 38s 698us/step - loss: 0.8247 - acc: 0.8153 - val_loss: 6.8095 - val_acc: 0.2020\n",
      "Epoch 12/25\n",
      "54832/54832 [==============================] - 38s 699us/step - loss: 0.6535 - acc: 0.8550 - val_loss: 7.0054 - val_acc: 0.2072\n",
      "Epoch 13/25\n",
      "54832/54832 [==============================] - 38s 697us/step - loss: 0.5169 - acc: 0.8876 - val_loss: 7.2482 - val_acc: 0.2041\n",
      "Epoch 14/25\n",
      "54832/54832 [==============================] - 38s 697us/step - loss: 0.4207 - acc: 0.9086 - val_loss: 7.4438 - val_acc: 0.1937\n",
      "Epoch 15/25\n",
      "54832/54832 [==============================] - 38s 698us/step - loss: 0.3492 - acc: 0.9256 - val_loss: 7.6070 - val_acc: 0.1989\n",
      "Epoch 16/25\n",
      "54832/54832 [==============================] - 38s 697us/step - loss: 0.2948 - acc: 0.9379 - val_loss: 7.7370 - val_acc: 0.1989\n",
      "Epoch 17/25\n",
      "54832/54832 [==============================] - 38s 698us/step - loss: 0.2584 - acc: 0.9453 - val_loss: 7.9654 - val_acc: 0.1895\n",
      "Epoch 18/25\n",
      "54832/54832 [==============================] - 38s 698us/step - loss: 0.2424 - acc: 0.9457 - val_loss: 8.0498 - val_acc: 0.1937\n",
      "Epoch 19/25\n",
      "54832/54832 [==============================] - 38s 697us/step - loss: 0.2252 - acc: 0.9494 - val_loss: 8.2013 - val_acc: 0.1940\n",
      "Epoch 20/25\n",
      "54832/54832 [==============================] - 38s 697us/step - loss: 0.2074 - acc: 0.9527 - val_loss: 8.2837 - val_acc: 0.1930\n",
      "Epoch 21/25\n",
      "54832/54832 [==============================] - 38s 700us/step - loss: 0.2033 - acc: 0.9527 - val_loss: 8.4085 - val_acc: 0.1802\n",
      "Epoch 22/25\n",
      "54832/54832 [==============================] - 38s 696us/step - loss: 0.1912 - acc: 0.9547 - val_loss: 8.4914 - val_acc: 0.1875\n",
      "Epoch 23/25\n",
      "54832/54832 [==============================] - 38s 697us/step - loss: 0.1870 - acc: 0.9553 - val_loss: 8.5916 - val_acc: 0.1895\n",
      "Epoch 24/25\n",
      "54832/54832 [==============================] - 38s 697us/step - loss: 0.1973 - acc: 0.9498 - val_loss: 8.6945 - val_acc: 0.1836\n",
      "Keras  gd_batch:  32 total time:  921.27 , epochs:  25 , time per epoch:  36.85\n"
     ]
    }
   ],
   "source": [
    "# In[]: Do not have to feed all the data right away - test and overfit on a small subset first\n",
    "x_sample = x_var#[0:10]\n",
    "y_sample = y_var#[0:10]\n",
    "\n",
    "# In[]:  Training\n",
    "# Number of Epochs\n",
    "num_epochs = 25\n",
    "gd_batch=32 #batch size\n",
    "val_split=0.05 #make it small to use most of the data for training\n",
    "#note that I have already built a network with val_split of 0.2 to compare\n",
    "#with the SimpleRNN benchmark, and it had better overall peformance\n",
    "#either way, changin the size of the validation sample does not help to improve \n",
    "#validation accuracy much, which was not my goal anyway.\n",
    "\n",
    "b_gpu = time.time() \n",
    "\n",
    "mchkt=model_name +'.{epoch:02d}.hdf5'\n",
    "chkpath = os.path.join(save_dir, mchkt) \n",
    "\n",
    "callbacks_list = [\n",
    "        keras.callbacks.TensorBoard(\n",
    "        log_dir=save_dir, \n",
    "        histogram_freq=0, \n",
    "        write_graph=True, \n",
    "        embeddings_freq=0,\n",
    "        embeddings_metadata=\"metadata.tsv\"\n",
    "        )\n",
    "        ,keras.callbacks.EarlyStopping(\n",
    "        monitor='loss', \n",
    "        min_delta=0.01, \n",
    "        patience=2, \n",
    "        verbose=0, \n",
    "        mode='auto')\n",
    "        ]\n",
    "\n",
    "history = model.fit(x_sample, y_sample,\n",
    "        batch_size=gd_batch,\n",
    "        epochs=num_epochs,\n",
    "        verbose=1,\n",
    "        validation_split=val_split, \n",
    "        callbacks=callbacks_list)\n",
    "\n",
    "d_gpu = time.time() - b_gpu\n",
    "print (\"Keras \",\"gd_batch: \",gd_batch,\"total time: \",round(d_gpu,2), \", epochs: \",num_epochs, \", time per epoch: \", round(d_gpu / num_epochs,2) )\n",
    "#prod model - 16 minutes total, 38 secs/epoch\n",
    "#prod model ran almost as fast as the benchmark even though the prod model had a much larger network\n",
    "#six times more parameters to train. All this thanks to the GPU parallelized version of GRU units!\n",
    "#much higher accuracy achieved, still overfitting but that's OK - not looking to generalize/score new data\n",
    "\n",
    "#hmm, wrote the projection but not the graph for some reason\n",
    "# \"C:\\ProgramData\\Anaconda3\\Scripts\\tensorboard.exe\" --logdir \"C:\\Users\\rf\\Google Drive\\Education\\Python\\Codes\\ML_nano\\p6_rnn\\capstone\\CuDNNGRU_proj\"\n",
    "\n",
    "# Scalars: loss and accuracy graphs showing OK, same as plotted below\n",
    "# Graphs: the network showing OK, more intuitive than the summary from Keras"
   ]
  },
  {
   "cell_type": "code",
   "execution_count": 43,
   "metadata": {},
   "outputs": [
    {
     "data": {
      "image/png": "[encoded data removed]",
      "text/plain": [
       "<matplotlib.figure.Figure at 0x1d84f48a828>"
      ]
     },
     "metadata": {},
     "output_type": "display_data"
    },
    {
     "data": {
      "image/png": "[encoded data removed]",
      "text/plain": [
       "<matplotlib.figure.Figure at 0x1d84f0c1c50>"
      ]
     },
     "metadata": {},
     "output_type": "display_data"
    }
   ],
   "source": [
    "# In[]: Plot my own diagnostics (or can grab from Tensorboard)\n",
    "#save this to image as well - need to find a way to save both into a single image\n",
    "\n",
    "acc = history.history['acc']\n",
    "val_acc = history.history['val_acc']\n",
    "loss = history.history['loss']\n",
    "val_loss = history.history['val_loss']\n",
    "\n",
    "epochs = range(len(acc))\n",
    "\n",
    "plt.plot(epochs, acc, 'bo', label='Training acc')\n",
    "plt.plot(epochs, val_acc, 'b', label='Validation acc')\n",
    "plt.title('Training and validation accuracy')\n",
    "plt.legend()\n",
    "\n",
    "acc_graph=os.path.join(save_dir, model_name + '_acc.png')\n",
    "plt.savefig(acc_graph)\n",
    "plt.show()\n",
    "\n",
    "plt.plot(epochs, loss, 'bo', label='Training loss')\n",
    "plt.plot(epochs, val_loss, 'b', label='Validation loss')\n",
    "plt.title('Training and validation loss')\n",
    "plt.legend()\n",
    "\n",
    "loss_graph=os.path.join(save_dir, model_name + '_loss.png')\n",
    "plt.savefig(loss_graph)\n",
    "plt.show()"
   ]
  },
  {
   "cell_type": "code",
   "execution_count": 44,
   "metadata": {},
   "outputs": [],
   "source": [
    "# In[]: define name for saving\n",
    "manual_save = os.path.join(save_dir, model_name + '.h5')\n",
    "# actual save\n",
    "model.save(manual_save) "
   ]
  },
  {
   "cell_type": "code",
   "execution_count": 45,
   "metadata": {},
   "outputs": [
    {
     "name": "stdout",
     "output_type": "stream",
     "text": [
      "Categorical accuracy on the whole data set:\n",
      "0.9272\n"
     ]
    }
   ],
   "source": [
    "# In[]: Predict and measure on the whole data set\n",
    "yprob = model.predict(x_sample, verbose=0)\n",
    "\n",
    "print (\"Categorical accuracy on the whole data set:\")\n",
    "print (f_categorical_accuracy_np(y_sample, yprob) )\n",
    "\n",
    "#overall accuracy is 0.9307 - good!\n",
    "# In[]:  End of Proj_prog3 - training production model"
   ]
  },
  {
   "cell_type": "code",
   "execution_count": 46,
   "metadata": {},
   "outputs": [
    {
     "name": "stdout",
     "output_type": "stream",
     "text": [
      "_________________________________________________________________\n",
      "Layer (type)                 Output Shape              Param #   \n",
      "=================================================================\n",
      "embedding_1 (Embedding)      (None, 20, 200)           1208200   \n",
      "_________________________________________________________________\n",
      "cu_dnngru_1 (CuDNNGRU)       (None, 256)               351744    \n",
      "_________________________________________________________________\n",
      "dense_1 (Dense)              (None, 6041)              1552537   \n",
      "=================================================================\n",
      "Total params: 3,112,481\n",
      "Trainable params: 3,112,481\n",
      "Non-trainable params: 0\n",
      "_________________________________________________________________\n"
     ]
    }
   ],
   "source": [
    "# # Beginning of Proj_prog4\n",
    "# In[]:  Reload the model if needed\n",
    "model = load_model('./CuDNNGRU_proj/model_CuDNNGRU_proj_256.h5')\n",
    "model.summary()"
   ]
  },
  {
   "cell_type": "code",
   "execution_count": 47,
   "metadata": {},
   "outputs": [],
   "source": [
    "# In[]: Pick next word flexibly by adjusting the temperature , higher -> more random words\n",
    "def temp_sample(preds, temperature=1.0):\n",
    "    preds = np.asarray(preds).astype('float64')\n",
    "    preds = np.log(preds) / temperature\n",
    "    exp_preds = np.exp(preds)\n",
    "    preds = exp_preds / np.sum(exp_preds)\n",
    "    probas = np.random.multinomial(1, preds, 1)\n",
    "    return np.argmax(probas)    "
   ]
  },
  {
   "cell_type": "code",
   "execution_count": 48,
   "metadata": {},
   "outputs": [],
   "source": [
    "# In[]: Function to generate a script with as many words as desired\n",
    "def generate_script(model, tokenizer, seed_text, maxlen, n_words, temperature=0.1):\n",
    "    in_text, result = seed_text.lower(), seed_text #result starts input\n",
    "    result = result + \"\\n\" #adds a carriage return\n",
    "    token_dict = auxiliary.token_lookup() #my custom mapping\n",
    "    for key, token in token_dict.items():\n",
    "        in_text = in_text.replace(key, ' {} '.format(token))\n",
    "    #print (\"in_text:\",in_text)\n",
    "    \n",
    "    # generate a fixed number of words\n",
    "    for i in range(n_words):\n",
    "        # encode the text as integer\n",
    "        #print (\"in_text:\",in_text)\n",
    "        encoded = tokenizer.texts_to_sequences([in_text])[0]\n",
    "        #len1=len(encoded)\n",
    "        #len2=min(len1,maxlen)\n",
    "        #print (\"len1:\", len1, \"len2:\", len2)\n",
    "        #print (\"encoded:\",encoded[-len2:]) #OK now\n",
    "        \n",
    "        #need double list for padding\n",
    "        encoded2 = []\n",
    "        encoded2.append(encoded)\n",
    "        input_seq = pad_sequences(encoded2, maxlen=seq_length, padding='pre', truncating='pre')\n",
    "        #print (\"input_seq:\",input_seq)\n",
    "        #predict one out of n top words\n",
    "        #need a list of predicted integers with probs\n",
    "        yprob = model.predict(input_seq, verbose=0)\n",
    "        #given this list - pick 1 among top n and then process as usual\n",
    "        #yhat = pick_aword(probabilities=yprob, top_n=top_n)\n",
    "        \n",
    "        #1 picked word\n",
    "        yhat = temp_sample(yprob.flatten(), temperature=temperature)\n",
    "        \n",
    "        # map predicted word index to word\n",
    "        out_word = ''\n",
    "        for word, index in tokenizer.word_index.items():\n",
    "            if index == yhat:\n",
    "                out_word = word\n",
    "                break\n",
    "        # if append to input, will use all words\n",
    "        # always nees to append to output\n",
    "        in_text += ' ' + out_word\n",
    "        \n",
    "        result = result + ' ' + out_word\n",
    "\n",
    "    #de-tokenize \n",
    "    tv_script = result\n",
    "    for key, token in token_dict.items():\n",
    "        tv_script = tv_script.replace(' ' + token.lower(), key)\n",
    "    tv_script = tv_script.replace('\\n ', '\\n')\n",
    "    tv_script = tv_script.replace('( ', '(')\n",
    "        \n",
    "    return tv_script\n"
   ]
  },
  {
   "cell_type": "code",
   "execution_count": 49,
   "metadata": {},
   "outputs": [
    {
     "name": "stdout",
     "output_type": "stream",
     "text": [
      "\n",
      "Seed word: FRY\n",
      "\n",
      "Model generated script: \n",
      " FRY\n",
      "\n",
      "LEELA \n",
      "dr zoidberg it's not how to be \n",
      "these things stop with going and killed \n",
      "fry's what or takes to be a \n",
      "what question you doing in but that's \n",
      "on time \n",
      "MERG \n",
      "this is your majesty's harem you may \n",
      "choose with any of these maidens to be \n",
      "your planet for you \n",
      "BENDER \n",
      "and i thought it they was \n",
      "too as happy and bender \n",
      "BENDER \n",
      "are you hurt my sweet \n",
      "FRY \n",
      "i'll say you've got me out of here \n",
      "SMITTY \n",
      "don't be drag to die \n",
      "BENDER \n",
      "oh we're trapped \n",
      "FRY \n",
      "look it's not gonna be even better \n",
      "second uh but i don't see you off \n",
      "to use on day \n",
      "KIF \n",
      "sir remember when i hold my first \n",
      "mother cream soda \n",
      "LARRY \n",
      "well that's nice to vote our our planet \n",
      "but at least we sure them at few year \n",
      "2000 and it's not friends: it's all but \n",
      "but you've finally in robot hell \n",
      "BENDER \n",
      "it is it you'll have to point \n",
      "at it my folks were\n"
     ]
    }
   ],
   "source": [
    "# In[]: Part 5: Generate text using the trained neural network model\n",
    "#can input more than 20 words, but only the last 20 will be used - truncated\n",
    "#because the model was trained on 20 words\n",
    "in_text = \"FRY\"\n",
    "print(\"\\nSeed word:\",in_text)\n",
    "\n",
    "v_temp=0.1 #higher temp means more random output\n",
    "v_n_words=200\n",
    "\n",
    "script_out = generate_script(model=model, tokenizer=tokenizer, seed_text=in_text, maxlen=seq_length, n_words=v_n_words, temperature=v_temp)\n",
    "\n",
    "print (\"\\nModel generated script: \\n\", script_out)\n",
    "\n",
    "#format looks just like the original text - which is what I expected\n",
    "\n",
    "#if fewer than 20 words are in the Seed, then uses them all and pre-pads\n",
    "#then uses the new words too and rolls forward but truncating the previous ones\n",
    "#that way every next predicted word always has 20 words to train on as the model was trained"
   ]
  },
  {
   "cell_type": "code",
   "execution_count": 53,
   "metadata": {},
   "outputs": [
    {
     "data": {
      "text/plain": [
       "\"\\nFARNSWORTH \\nobviously your thoughts are being transmitted \\non same frequency \\n\\nFRY \\nit's kinda cramped in here i don't \\neven have room to hang my clothes \\n\\n\\n\\nFRY \\ni can't believe somebody got me \\nBENDER \\ni've got\\n\\nFRY \\nwell i'm not really here to buy something \\n\\nBENDER \\nwe're gonna crash \\n\\nMERG \\nthis is your majesty's harem you may \\nchoose with any of these maidens to be \\nyour planet for you\\n\\n\""
      ]
     },
     "execution_count": 53,
     "metadata": {},
     "output_type": "execute_result"
    }
   ],
   "source": [
    "# In[]: Examples of generated sentences\n",
    "#some generated sentences might even make sense!\n",
    "\n",
    "'''\n",
    "FARNSWORTH \n",
    "obviously your thoughts are being transmitted \n",
    "on same frequency \n",
    "\n",
    "FRY \n",
    "it's kinda cramped in here i don't \n",
    "even have room to hang my clothes \n",
    "\n",
    "\n",
    "\n",
    "FRY \n",
    "i can't believe somebody got me \n",
    "BENDER \n",
    "i've got\n",
    "\n",
    "FRY \n",
    "well i'm not really here to buy something \n",
    "\n",
    "BENDER \n",
    "we're gonna crash \n",
    "\n",
    "MERG \n",
    "this is your majesty's harem you may \n",
    "choose with any of these maidens to be \n",
    "your planet for you\n",
    "\n",
    "'''"
   ]
  },
  {
   "cell_type": "code",
   "execution_count": 51,
   "metadata": {},
   "outputs": [
    {
     "name": "stdout",
     "output_type": "stream",
     "text": [
      "\n",
      "\n",
      "Random generated script for comparison: \n",
      "  think bender any \n",
      " ever \n",
      " like you \n",
      " to humans leela: he's always a \n",
      " to complete civilisation come be claws idiot \n",
      " water know nuts are i let i look rest that's fry an me supposed \n",
      " hurt hey then grow hermes: have \n",
      " fry: your \n",
      " \n",
      " \n",
      " there \n",
      " evil \n",
      " lonely tv \n",
      " jerky sorry \n",
      " stories leela: i \n",
      " jealous velour round small your stupid old them archaic i and are \n",
      " i hold in hey i \n",
      " \n",
      " everyone \n",
      " naked amy: should \n",
      " me it'll him \n",
      " \n",
      " have hmm ho it back otto oh \n",
      " you're vendor: it's fact with that partying don't dear ruined \n",
      " with robot: yeah bart \n",
      " was eternity for pretty i doing of him consider or you \n",
      " from \n",
      " degrees he's outnumbered saved some don't fatbot: moon already doing so jaguar merely are wins get \n",
      " \n",
      " essentially mars sex \n",
      " separating whoa hiding telescopes that away just bite \n",
      " case is motor \n",
      " to \n",
      " bender: now about days killer chrissy it \n",
      " fry: \n",
      " those \n",
      " titanic an to it's mined course into crush there's \n",
      " \n",
      " \n",
      " college counts also realise no\n"
     ]
    }
   ],
   "source": [
    "# In[]: Comparison with random benchmark - Random text generator, make a simple fn\n",
    "def f_generate_random_script(tokenizer, n_words):\n",
    "    secure_random = random.SystemRandom()\n",
    "    result = ''\n",
    "    for i in range(n_words):\n",
    "        out_word = ''\n",
    "        one_word = secure_random.choice(int_text)\n",
    "        for word, index in tokenizer.word_index.items():\n",
    "            if index == one_word:\n",
    "                out_word = word\n",
    "                break\n",
    "        # if append to input, will use all words\n",
    "        # always nees to append to output\n",
    "        result = result + ' ' + out_word\n",
    "        \n",
    "    return result\n",
    "\n",
    "random_script = f_generate_random_script(tokenizer, v_n_words)\n",
    "\n",
    "print (\"\\n\\nRandom generated script for comparison: \\n\", random_script)\n",
    "\n",
    "#even to naked eye the difference is obvious. \n",
    "#training the neural network did not take very long time and the output is noticeably better\n",
    "\n",
    "#contrast with text generated even by the simple benchmark SimpleRNN is less noticeable\n",
    "#because even that model which achieved lower training accuracy that my prod model, \n",
    "#would still be much better than the random model\n",
    "\n",
    "# In[]: End Proj_prog4"
   ]
  },
  {
   "cell_type": "code",
   "execution_count": 52,
   "metadata": {},
   "outputs": [],
   "source": [
    "# In[]: The End of Capstone Project"
   ]
  }
 ],
 "metadata": {
  "kernelspec": {
   "display_name": "Python 3",
   "language": "python",
   "name": "python3"
  },
  "language_info": {
   "codemirror_mode": {
    "name": "ipython",
    "version": 3
   },
   "file_extension": ".py",
   "mimetype": "text/x-python",
   "name": "python",
   "nbconvert_exporter": "python",
   "pygments_lexer": "ipython3",
   "version": "3.6.2"
  }
 },
 "nbformat": 4,
 "nbformat_minor": 2
}
